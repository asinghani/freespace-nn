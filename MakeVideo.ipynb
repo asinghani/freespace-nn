{
 "metadata": {
  "name": "",
  "signature": "sha256:d1b4dd1a496d85fda9ef5cfd1184c5597f43697516e294e84933bdb8b02d9210"
 },
 "nbformat": 3,
 "nbformat_minor": 0,
 "worksheets": [
  {
   "cells": [
    {
     "cell_type": "code",
     "collapsed": false,
     "input": [
      "import cv2\n",
      "import numpy as np\n",
      "import tensorflow as tf\n",
      "from tensorflow.keras.models import load_model\n",
      "from tensorflow.keras.backend import set_session, set_floatx\n",
      "from skimage.transform import resize"
     ],
     "language": "python",
     "metadata": {},
     "outputs": [],
     "prompt_number": 72
    },
    {
     "cell_type": "code",
     "collapsed": false,
     "input": [
      "cd ~"
     ],
     "language": "python",
     "metadata": {},
     "outputs": [
      {
       "output_type": "stream",
       "stream": "stdout",
       "text": [
        "/home/anish\n"
       ]
      }
     ],
     "prompt_number": 73
    },
    {
     "cell_type": "code",
     "collapsed": false,
     "input": [
      "from freespacenn.util.vis import view_seg_map\n",
      "\n",
      "from freespacenn.config import Config\n",
      "from freespacenn.models.floornet import FloorNet"
     ],
     "language": "python",
     "metadata": {},
     "outputs": [],
     "prompt_number": 74
    },
    {
     "cell_type": "code",
     "collapsed": false,
     "input": [],
     "language": "python",
     "metadata": {},
     "outputs": [],
     "prompt_number": 12
    },
    {
     "cell_type": "code",
     "collapsed": false,
     "input": [
      "from math import cos, sin\n",
      "def ray(theta, w=640, h=480):\n",
      "    coords = [(int((w//2) - t * cos(theta)), int((h) - t * sin(theta))) for t in range(0, 1000)]\n",
      "    coords = [(x, y) for (x, y) in coords if x < w and y < h and x >= 0 and y >= 0]\n",
      "    return np.array(coords)\n",
      "\n",
      "def ray_projection(label, num_arcs=25):\n",
      "    PI = 3.1415926535\n",
      "    theta = np.linspace(1.0 * PI / 10-00.0, 9999.0 * PI / 10000.0, num_arcs)\n",
      "    coords = []\n",
      "    for angle in theta:\n",
      "        r = ray(angle, label.shape[1], label.shape[0])\n",
      "        #print(r)\n",
      "        \n",
      "        for x, y in r:\n",
      "            if label[y, x] == 0:\n",
      "                coords.append((x, y))\n",
      "                break\n",
      "            \n",
      "    return coords"
     ],
     "language": "python",
     "metadata": {},
     "outputs": [],
     "prompt_number": 23
    },
    {
     "cell_type": "code",
     "collapsed": false,
     "input": [
      "cap = cv2.VideoCapture(\"/hdd/videos/turning.avi\")\n",
      "_, frame = cap.read()\n",
      "out = cv2.VideoWriter(\"/hdd/videos/final_second.avi\",\n",
      "                      cv2.VideoWriter_fourcc(\"M\", \"J\", \"P\", \"G\"), 10,\n",
      "                      (frame.shape[1], frame.shape[0]))\n",
      "xcount = 0"
     ],
     "language": "python",
     "metadata": {},
     "outputs": [],
     "prompt_number": 83
    },
    {
     "cell_type": "code",
     "collapsed": false,
     "input": [
      "camera_matrix = np.array([239.77871918748104, 0.0, 331.0488962885363, 0.0, 239.63755554252606, 229.2049971397756, 0.0, 0.0, 1.0],\n",
      "                         dtype=np.float32).reshape((3, 3))\n",
      "distortion_coefficients = np.array([-0.0416003700208058, -0.0010619390081457224, -0.0025340873193225645, 0.00033806765902935583], dtype=np.float32)\n",
      "map1, map2 = cv2.fisheye.initUndistortRectifyMap(camera_matrix, distortion_coefficients, np.eye(3), camera_matrix, dims, cv2.CV_16SC2)\n",
      "\n",
      "config = Config()\n",
      "config.init_weights = None\n",
      "config.image_size = (224, 224)\n",
      "config.input_shape = (config.image_size[0], config.image_size[1], 3)\n",
      "\n",
      "model = FloorNet(config)\n",
      "model.load_weights(\"/hdd/models/isef/sgd_carpetonly_nocrop/model-1200.h5\")"
     ],
     "language": "python",
     "metadata": {},
     "outputs": [],
     "prompt_number": 69
    },
    {
     "cell_type": "code",
     "collapsed": false,
     "input": [
      "for i in range(50):\n",
      "    ret, frame = cap.read()\n",
      "    if not ret:\n",
      "        break\n",
      "    \n",
      "    img = frame\n",
      "    #img = cv2.remap(frame, map1, map2, interpolation=cv2.INTER_LINEAR, borderMode=cv2.BORDER_CONSTANT)\n",
      "    \n",
      "    #img = cv2.cvtColor(frame, cv2.COLOR_BGR2YUV)\n",
      "    #img[:, :, 0] = cv2.equalizeHist(img[:, :, 0])\n",
      "    #img = cv2.cvtColor(img, cv2.COLOR_YUV2BGR)\n",
      "    \n",
      "    \n",
      "    #img = cv2.resize(img[int(img.shape[0] * 0.375):], (224, 224)) # original\n",
      "    img = cv2.resize(img, (224, 224))\n",
      "    \n",
      "    img2 = cv2.cvtColor(img, cv2.COLOR_BGR2GRAY)\n",
      "    x = cv2.Sobel(img2, cv2.CV_32F, 1, 0, ksize=3)\n",
      "    x = cv2.convertScaleAbs(x) / 255.0\n",
      "    x = x.reshape((x.shape[0], x.shape[1], 1))\n",
      "    y = cv2.Sobel(img2, cv2.CV_32F, 0, 1, ksize=3)\n",
      "    y = cv2.convertScaleAbs(y) / 255.0\n",
      "    y = y.reshape((y.shape[0], y.shape[1], 1))\n",
      "    z = cv2.Laplacian(img2, cv2.CV_32F)\n",
      "    z = cv2.convertScaleAbs(z) / 255.0\n",
      "    z = z.reshape((z.shape[0], z.shape[1], 1))\n",
      "    image2 = np.concatenate((x, y, z), axis=2)\n",
      "    image2 = cv2.resize(image2, (112, 112))\n",
      "    nnInput = np.array(img, dtype=np.float32) / 255.0\n",
      "    \n",
      "    nnInput = 2 * (nnInput - 0.5)\n",
      "    image2 = 2 * (image2 - 0.5)\n",
      "    \n",
      "    data = model.predict([nnInput[:, :, ::-1].reshape((1, 224, 224, 3)), image2.reshape((1, 112, 112, 3))])\n",
      "    seg = data[0].argmax(axis=2).astype(np.float32)\n",
      "    seg = resize(seg, (frame.shape[0], frame.shape[1])).reshape((frame.shape[0], frame.shape[1], 1))\n",
      "    #frame = resize(frame, (540, 960))\n",
      "    seg = np.around(seg)\n",
      "    #print(seg.shape, frame.shape)\n",
      "    \n",
      "    vis = view_seg_map(frame, seg, color=(0, 255, 0))\n",
      "    \n",
      "    coords = ray_projection(seg, num_arcs=45)\n",
      "    for x, y in coords:\n",
      "        cv2.circle(vis, (int(x), int(y)), 8, (34, 34, 178), -1)\n",
      "\n",
      "    \n",
      "    ## TODO ADD CONTOUR FILTERING\n",
      "    print(vis.shape)\n",
      "    out.write(vis)\n",
      "    print(xcount)\n",
      "    xcount = xcount + 1\n",
      "\n",
      "cap.release()\n",
      "out.release()"
     ],
     "language": "python",
     "metadata": {},
     "outputs": [
      {
       "output_type": "stream",
       "stream": "stdout",
       "text": [
        "(576, 1024, 3)\n",
        "0\n",
        "(576, 1024, 3)"
       ]
      },
      {
       "output_type": "stream",
       "stream": "stdout",
       "text": [
        "\n",
        "1\n",
        "(576, 1024, 3)"
       ]
      },
      {
       "output_type": "stream",
       "stream": "stdout",
       "text": [
        "\n",
        "2\n",
        "(576, 1024, 3)"
       ]
      },
      {
       "output_type": "stream",
       "stream": "stdout",
       "text": [
        "\n",
        "3\n",
        "(576, 1024, 3)"
       ]
      },
      {
       "output_type": "stream",
       "stream": "stdout",
       "text": [
        "\n",
        "4\n",
        "(576, 1024, 3)"
       ]
      },
      {
       "output_type": "stream",
       "stream": "stdout",
       "text": [
        "\n",
        "5\n",
        "(576, 1024, 3)"
       ]
      },
      {
       "output_type": "stream",
       "stream": "stdout",
       "text": [
        "\n",
        "6\n",
        "(576, 1024, 3)"
       ]
      },
      {
       "output_type": "stream",
       "stream": "stdout",
       "text": [
        "\n",
        "7\n",
        "(576, 1024, 3)"
       ]
      },
      {
       "output_type": "stream",
       "stream": "stdout",
       "text": [
        "\n",
        "8\n",
        "(576, 1024, 3)"
       ]
      },
      {
       "output_type": "stream",
       "stream": "stdout",
       "text": [
        "\n",
        "9\n",
        "(576, 1024, 3)"
       ]
      },
      {
       "output_type": "stream",
       "stream": "stdout",
       "text": [
        "\n",
        "10\n",
        "(576, 1024, 3)"
       ]
      },
      {
       "output_type": "stream",
       "stream": "stdout",
       "text": [
        "\n",
        "11\n",
        "(576, 1024, 3)"
       ]
      },
      {
       "output_type": "stream",
       "stream": "stdout",
       "text": [
        "\n",
        "12\n",
        "(576, 1024, 3)"
       ]
      },
      {
       "output_type": "stream",
       "stream": "stdout",
       "text": [
        "\n",
        "13\n",
        "(576, 1024, 3)"
       ]
      },
      {
       "output_type": "stream",
       "stream": "stdout",
       "text": [
        "\n",
        "14\n",
        "(576, 1024, 3)"
       ]
      },
      {
       "output_type": "stream",
       "stream": "stdout",
       "text": [
        "\n",
        "15\n",
        "(576, 1024, 3)"
       ]
      },
      {
       "output_type": "stream",
       "stream": "stdout",
       "text": [
        "\n",
        "16\n",
        "(576, 1024, 3)"
       ]
      },
      {
       "output_type": "stream",
       "stream": "stdout",
       "text": [
        "\n",
        "17\n",
        "(576, 1024, 3)"
       ]
      },
      {
       "output_type": "stream",
       "stream": "stdout",
       "text": [
        "\n",
        "18\n",
        "(576, 1024, 3)"
       ]
      },
      {
       "output_type": "stream",
       "stream": "stdout",
       "text": [
        "\n",
        "19\n",
        "(576, 1024, 3)"
       ]
      },
      {
       "output_type": "stream",
       "stream": "stdout",
       "text": [
        "\n",
        "20\n",
        "(576, 1024, 3)"
       ]
      },
      {
       "output_type": "stream",
       "stream": "stdout",
       "text": [
        "\n",
        "21\n",
        "(576, 1024, 3)"
       ]
      },
      {
       "output_type": "stream",
       "stream": "stdout",
       "text": [
        "\n",
        "22\n",
        "(576, 1024, 3)"
       ]
      },
      {
       "output_type": "stream",
       "stream": "stdout",
       "text": [
        "\n",
        "23\n",
        "(576, 1024, 3)"
       ]
      },
      {
       "output_type": "stream",
       "stream": "stdout",
       "text": [
        "\n",
        "24\n",
        "(576, 1024, 3)"
       ]
      },
      {
       "output_type": "stream",
       "stream": "stdout",
       "text": [
        "\n",
        "25\n",
        "(576, 1024, 3)"
       ]
      },
      {
       "output_type": "stream",
       "stream": "stdout",
       "text": [
        "\n",
        "26\n",
        "(576, 1024, 3)"
       ]
      },
      {
       "output_type": "stream",
       "stream": "stdout",
       "text": [
        "\n",
        "27\n",
        "(576, 1024, 3)"
       ]
      },
      {
       "output_type": "stream",
       "stream": "stdout",
       "text": [
        "\n",
        "28\n",
        "(576, 1024, 3)"
       ]
      },
      {
       "output_type": "stream",
       "stream": "stdout",
       "text": [
        "\n",
        "29\n",
        "(576, 1024, 3)"
       ]
      },
      {
       "output_type": "stream",
       "stream": "stdout",
       "text": [
        "\n",
        "30\n",
        "(576, 1024, 3)"
       ]
      },
      {
       "output_type": "stream",
       "stream": "stdout",
       "text": [
        "\n",
        "31\n",
        "(576, 1024, 3)"
       ]
      },
      {
       "output_type": "stream",
       "stream": "stdout",
       "text": [
        "\n",
        "32\n",
        "(576, 1024, 3)"
       ]
      },
      {
       "output_type": "stream",
       "stream": "stdout",
       "text": [
        "\n",
        "33\n",
        "(576, 1024, 3)"
       ]
      },
      {
       "output_type": "stream",
       "stream": "stdout",
       "text": [
        "\n",
        "34\n",
        "(576, 1024, 3)"
       ]
      },
      {
       "output_type": "stream",
       "stream": "stdout",
       "text": [
        "\n",
        "35\n",
        "(576, 1024, 3)"
       ]
      },
      {
       "output_type": "stream",
       "stream": "stdout",
       "text": [
        "\n",
        "36\n",
        "(576, 1024, 3)"
       ]
      },
      {
       "output_type": "stream",
       "stream": "stdout",
       "text": [
        "\n",
        "37\n",
        "(576, 1024, 3)"
       ]
      },
      {
       "output_type": "stream",
       "stream": "stdout",
       "text": [
        "\n",
        "38\n",
        "(576, 1024, 3)"
       ]
      },
      {
       "output_type": "stream",
       "stream": "stdout",
       "text": [
        "\n",
        "39\n",
        "(576, 1024, 3)"
       ]
      },
      {
       "output_type": "stream",
       "stream": "stdout",
       "text": [
        "\n",
        "40\n",
        "(576, 1024, 3)"
       ]
      },
      {
       "output_type": "stream",
       "stream": "stdout",
       "text": [
        "\n",
        "41\n",
        "(576, 1024, 3)"
       ]
      },
      {
       "output_type": "stream",
       "stream": "stdout",
       "text": [
        "\n",
        "42\n",
        "(576, 1024, 3)"
       ]
      },
      {
       "output_type": "stream",
       "stream": "stdout",
       "text": [
        "\n",
        "43\n",
        "(576, 1024, 3)"
       ]
      },
      {
       "output_type": "stream",
       "stream": "stdout",
       "text": [
        "\n",
        "44\n",
        "(576, 1024, 3)"
       ]
      },
      {
       "output_type": "stream",
       "stream": "stdout",
       "text": [
        "\n",
        "45\n",
        "(576, 1024, 3)"
       ]
      },
      {
       "output_type": "stream",
       "stream": "stdout",
       "text": [
        "\n",
        "46\n",
        "(576, 1024, 3)"
       ]
      },
      {
       "output_type": "stream",
       "stream": "stdout",
       "text": [
        "\n",
        "47\n",
        "(576, 1024, 3)"
       ]
      },
      {
       "output_type": "stream",
       "stream": "stdout",
       "text": [
        "\n",
        "48\n",
        "(576, 1024, 3)"
       ]
      },
      {
       "output_type": "stream",
       "stream": "stdout",
       "text": [
        "\n",
        "49\n"
       ]
      }
     ],
     "prompt_number": 84
    },
    {
     "cell_type": "code",
     "collapsed": false,
     "input": [
      "data = model.predict([nnInput.reshape((1, 224, 224, 3)), image2.reshape((1, 112, 112, 3))])"
     ],
     "language": "python",
     "metadata": {},
     "outputs": [],
     "prompt_number": 30
    },
    {
     "cell_type": "code",
     "collapsed": false,
     "input": [
      "seg = data[0].argmax(axis=2)"
     ],
     "language": "python",
     "metadata": {},
     "outputs": [],
     "prompt_number": 34
    },
    {
     "cell_type": "code",
     "collapsed": false,
     "input": [
      "import matplotlib\n",
      "%matplotlib inline\n",
      "import matplotlib.pyplot as plt"
     ],
     "language": "python",
     "metadata": {},
     "outputs": [],
     "prompt_number": 36
    },
    {
     "cell_type": "code",
     "collapsed": false,
     "input": [
      "vis = view_seg_map(img, seg, color=(0, 255, 0))"
     ],
     "language": "python",
     "metadata": {},
     "outputs": [],
     "prompt_number": 40
    },
    {
     "cell_type": "code",
     "collapsed": false,
     "input": [
      "plt.imshow(vis)"
     ],
     "language": "python",
     "metadata": {},
     "outputs": [
      {
       "metadata": {},
       "output_type": "pyout",
       "prompt_number": 42,
       "text": [
        "<matplotlib.image.AxesImage at 0x7f99041e2a10>"
       ]
      },
      {
       "metadata": {},
       "output_type": "display_data",
       "png": "[encoded data removed]",
       "text": [
        "<matplotlib.figure.Figure at 0x7f990425fc90>"
       ]
      }
     ],
     "prompt_number": 42
    },
    {
     "cell_type": "code",
     "collapsed": false,
     "input": [],
     "language": "python",
     "metadata": {},
     "outputs": []
    }
   ],
   "metadata": {}
  }
 ]
}