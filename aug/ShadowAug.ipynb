{
 "cells": [
  {
   "cell_type": "code",
   "execution_count": 16,
   "metadata": {},
   "outputs": [],
   "source": [
    "import cv2 \n",
    "import numpy as np\n",
    "import matplotlib\n",
    "%matplotlib inline\n",
    "import matplotlib.pyplot as plt\n",
    "import math\n",
    "import random\n",
    "import aggdraw"
   ]
  },
  {
   "cell_type": "code",
   "execution_count": 17,
   "metadata": {},
   "outputs": [
    {
     "data": {
      "text/plain": [
       "<matplotlib.collections.PathCollection at 0x1179eca90>"
      ]
     },
     "execution_count": 17,
     "metadata": {},
     "output_type": "execute_result"
    },
    {
     "data": {
      "image/png": "[encoded data removed]",
      "text/plain": [
       "<Figure size 432x288 with 1 Axes>"
      ]
     },
     "metadata": {},
     "output_type": "display_data"
    }
   ],
   "source": [
    "count = 15 # 3-17\n",
    "radius = 100\n",
    "contrast = 0.4\n",
    "\n",
    "angle = 2 * math.pi / count\n",
    "distr_rad = radius / math.e\n",
    "\n",
    "handle_stretch = ((4.0 / 3.0) * math.tan(rad(angle / 4.0))) / math.sin(rad(angle / 2.0))\n",
    "\n",
    "points = []\n",
    "\n",
    "for i in range(count):\n",
    "    r = 1 - 0.8 * contrast * random.uniform(0, 1)\n",
    "    points.append((math.sin(i * angle) * distr_rad * r * radius / 2.0,\n",
    "                   math.cos(i * angle) * distr_rad * r * radius / 2.0))\n",
    "\n",
    "points = np.array(points)\n",
    "\n",
    "\n",
    "plt.scatter(points[:, 0], points[:, 1])\n",
    "plt.scatter([0], [0])"
   ]
  },
  {
   "cell_type": "code",
   "execution_count": 18,
   "metadata": {},
   "outputs": [
    {
     "ename": "SyntaxError",
     "evalue": "invalid syntax (<ipython-input-18-b836b1121c61>, line 12)",
     "output_type": "error",
     "traceback": [
      "\u001b[0;36m  File \u001b[0;32m\"<ipython-input-18-b836b1121c61>\"\u001b[0;36m, line \u001b[0;32m12\u001b[0m\n\u001b[0;31m    in: opt.strength * (1 / 2) * distance(point, before),\u001b[0m\n\u001b[0m     ^\u001b[0m\n\u001b[0;31mSyntaxError\u001b[0m\u001b[0;31m:\u001b[0m invalid syntax\n"
     ]
    }
   ],
   "source": [
    "path = \"m0,0 \"\n",
    "\n",
    "def dist(pt1, pt2):\n",
    "    return math.hypot(pt1[0] - pt2[0], pt1[1] - pt2[1])\n",
    "\n",
    "for i in range(len(points)):\n",
    "    point = points[i]\n",
    "    prev = points[i - 1]\n",
    "    next = points[(i + 1) % len(points)]\n",
    "    \n",
    "    x = point[0]\n",
    "    y = point[1]\n",
    "    \n",
    "    handle_left = handle_stretch * 0.5 * dist()\n",
    "    \n",
    "    \n",
    "    path += \"c{},{},{},{},{},{}\".append()\n",
    "\n",
    "    out.push({\n",
    "        x: point.x,\n",
    "        y: point.y,\n",
    "        handles: {\n",
    "            angle: angle(before, after),\n",
    "            in: opt.strength * (1 / 2) * distance(point, before),\n",
    "            out: opt.strength * (1 / 2) * distance(point, after),\n",
    "        },\n",
    "    });"
   ]
  },
  {
   "cell_type": "code",
   "execution_count": 11,
   "metadata": {},
   "outputs": [
    {
     "data": {
      "text/plain": [
       "15"
      ]
     },
     "execution_count": 11,
     "metadata": {},
     "output_type": "execute_result"
    }
   ],
   "source": [
    "len(points)"
   ]
  },
  {
   "cell_type": "code",
   "execution_count": 12,
   "metadata": {},
   "outputs": [
    {
     "ename": "IndexError",
     "evalue": "index 16 is out of bounds for axis 0 with size 15",
     "output_type": "error",
     "traceback": [
      "\u001b[0;31m---------------------------------------------------------------------------\u001b[0m",
      "\u001b[0;31mIndexError\u001b[0m                                Traceback (most recent call last)",
      "\u001b[0;32m<ipython-input-12-bccec13bc330>\u001b[0m in \u001b[0;36m<module>\u001b[0;34m()\u001b[0m\n\u001b[0;32m----> 1\u001b[0;31m \u001b[0mpoints\u001b[0m\u001b[0;34m[\u001b[0m\u001b[0;36m16\u001b[0m\u001b[0;34m]\u001b[0m\u001b[0;34m\u001b[0m\u001b[0m\n\u001b[0m",
      "\u001b[0;31mIndexError\u001b[0m: index 16 is out of bounds for axis 0 with size 15"
     ]
    }
   ],
   "source": [
    "points[16]"
   ]
  },
  {
   "cell_type": "code",
   "execution_count": null,
   "metadata": {},
   "outputs": [],
   "source": []
  }
 ],
 "metadata": {
  "kernelspec": {
   "display_name": "Python 3",
   "language": "python",
   "name": "python3"
  },
  "language_info": {
   "codemirror_mode": {
    "name": "ipython",
    "version": 3
   },
   "file_extension": ".py",
   "mimetype": "text/x-python",
   "name": "python",
   "nbconvert_exporter": "python",
   "pygments_lexer": "ipython3",
   "version": "3.5.5"
  },
  "widgets": {
   "state": {},
   "version": "1.1.2"
  }
 },
 "nbformat": 4,
 "nbformat_minor": 2
}
